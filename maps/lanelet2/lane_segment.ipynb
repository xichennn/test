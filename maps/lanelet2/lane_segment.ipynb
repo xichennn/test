{
 "cells": [
  {
   "cell_type": "code",
   "execution_count": 1,
   "metadata": {},
   "outputs": [],
   "source": [
    "import logging\n",
    "import os\n",
    "import xml.etree.ElementTree as ET\n",
    "from typing import Any, Dict, List, Mapping, MutableMapping, Optional, Tuple, Union, cast\n",
    "\n",
    "import numpy as np\n",
    "\n",
    "from lane_segment import LaneSegment\n",
    "\n",
    "logger = logging.getLogger(__name__)\n",
    "\n",
    "\n",
    "_PathLike = Union[str, \"os.PathLike[str]\"]"
   ]
  },
  {
   "cell_type": "code",
   "execution_count": 2,
   "metadata": {},
   "outputs": [],
   "source": [
    "map_fpath = 'Town01.osm'\n",
    "tree = ET.parse(os.fspath(map_fpath))\n",
    "root = tree.getroot()\n",
    "\n",
    "logger.info(f\"Loaded root: {root.tag}\")\n",
    "\n",
    "all_graph_nodes = {}\n",
    "lane_objs = {}\n",
    "# all children are either Nodes or Ways or relations\n",
    "# for child in root:\n",
    "#     if child.tag == \"node\":\n",
    "#         node_obj = extract_node_from_ET_element(child)\n",
    "#         all_graph_nodes[node_obj.id] = node_obj"
   ]
  },
  {
   "cell_type": "code",
   "execution_count": 6,
   "metadata": {},
   "outputs": [],
   "source": [
    "child = root[0]"
   ]
  },
  {
   "cell_type": "code",
   "execution_count": 9,
   "metadata": {},
   "outputs": [],
   "source": [
    "node_fields = child.attrib\n",
    "node_id = int(node_fields[\"id\"])"
   ]
  },
  {
   "cell_type": "code",
   "execution_count": 11,
   "metadata": {},
   "outputs": [
    {
     "data": {
      "text/plain": [
       "{'id': '1002',\n",
       " 'visible': 'true',\n",
       " 'version': '1',\n",
       " 'lat': '-0.0000361456',\n",
       " 'lon': '0.0031251228'}"
      ]
     },
     "execution_count": 11,
     "metadata": {},
     "output_type": "execute_result"
    }
   ],
   "source": [
    "for element in child:\n",
    "        # The cast on the next line is the result of a typeshed bug.  This really is a List and not a ItemsView.\n",
    "        way_field = cast(List[Tuple[str, str]], list(element.items()))\n",
    "        field_name = way_field[0][0]\n",
    "        if field_name == \"k\":\n",
    "            key = way_field[0][1]\n",
    "            if key in {\"predecessor\", \"successor\"}:\n",
    "                append_additional_key_value_pair(lane_obj, way_field)\n",
    "            else:\n",
    "                append_unique_key_value_pair(lane_obj, way_field)\n",
    "        else:\n",
    "            node_id_list.append(extract_node_waypt(way_field))\n"
   ]
  },
  {
   "cell_type": "code",
   "execution_count": 15,
   "metadata": {},
   "outputs": [],
   "source": [
    "element = child[1]\n",
    "way_field = cast(List[Tuple[str, str]], list(element.items()))"
   ]
  },
  {
   "cell_type": "code",
   "execution_count": 17,
   "metadata": {},
   "outputs": [],
   "source": [
    "field_name = way_field[0][0]\n",
    "# if field_name == \"k\":\n",
    "#     key = way_field[0][1]\n",
    "#     if key in {\"predecessor\", \"successor\"}:\n",
    "#         append_additional_key_value_pair(lane_obj, way_field)\n",
    "#     else:\n",
    "#         append_unique_key_value_pair(lane_obj, way_field)\n",
    "# else:\n",
    "#     node_id_list.append(extract_node_waypt(way_field))"
   ]
  },
  {
   "cell_type": "code",
   "execution_count": 24,
   "metadata": {},
   "outputs": [
    {
     "data": {
      "text/plain": [
       "'348.227877'"
      ]
     },
     "execution_count": 24,
     "metadata": {},
     "output_type": "execute_result"
    }
   ],
   "source": [
    "way_field[1][1]"
   ]
  },
  {
   "cell_type": "code",
   "execution_count": null,
   "metadata": {},
   "outputs": [],
   "source": [
    "    if \"height\" in node_fields.keys():\n",
    "        return Node(\n",
    "            id=node_id,\n",
    "            x=float(node_fields[\"x\"]),\n",
    "            y=float(node_fields[\"y\"]),\n",
    "            height=float(node_fields[\"height\"]),\n",
    "        )"
   ]
  },
  {
   "cell_type": "code",
   "execution_count": 28,
   "metadata": {},
   "outputs": [],
   "source": [
    "#relation\n",
    "child = root[2100]"
   ]
  },
  {
   "cell_type": "code",
   "execution_count": 29,
   "metadata": {},
   "outputs": [],
   "source": [
    "element = child[1]"
   ]
  },
  {
   "cell_type": "code",
   "execution_count": 32,
   "metadata": {},
   "outputs": [],
   "source": [
    "relation_field = cast(List[Tuple[str, str]], list(element.items()))"
   ]
  },
  {
   "cell_type": "code",
   "execution_count": 35,
   "metadata": {},
   "outputs": [
    {
     "data": {
      "text/plain": [
       "'1028'"
      ]
     },
     "execution_count": 35,
     "metadata": {},
     "output_type": "execute_result"
    }
   ],
   "source": [
    "relation_field[1][1]"
   ]
  },
  {
   "cell_type": "code",
   "execution_count": null,
   "metadata": {},
   "outputs": [],
   "source": [
    "for element in child:\n",
    "    relation_field = cast(List[Tuple[str, str]], list(element.items()))\n",
    "    if relation_field[2][1] == \"right\":\n",
    "        r_neighbor = int(relation_field[1][1])\n",
    "    elif relation_field[2][1] == \"left\":\n",
    "        l_neighbor = int(relation_field[1][1])"
   ]
  },
  {
   "cell_type": "code",
   "execution_count": 36,
   "metadata": {},
   "outputs": [
    {
     "data": {
      "text/plain": [
       "'member'"
      ]
     },
     "execution_count": 36,
     "metadata": {},
     "output_type": "execute_result"
    }
   ],
   "source": [
    "element.tag"
   ]
  },
  {
   "cell_type": "code",
   "execution_count": null,
   "metadata": {},
   "outputs": [],
   "source": []
  }
 ],
 "metadata": {
  "kernelspec": {
   "display_name": "Python 3.7.13 ('lanegcn')",
   "language": "python",
   "name": "python3"
  },
  "language_info": {
   "codemirror_mode": {
    "name": "ipython",
    "version": 3
   },
   "file_extension": ".py",
   "mimetype": "text/x-python",
   "name": "python",
   "nbconvert_exporter": "python",
   "pygments_lexer": "ipython3",
   "version": "3.7.13"
  },
  "orig_nbformat": 4,
  "vscode": {
   "interpreter": {
    "hash": "c135c890bec09d97417ff180da7d41c20dd74c9eaf61c3524836d47ea989e24a"
   }
  }
 },
 "nbformat": 4,
 "nbformat_minor": 2
}
