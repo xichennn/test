{
 "cells": [
  {
   "cell_type": "code",
   "execution_count": 1,
   "metadata": {},
   "outputs": [],
   "source": [
    "import pandas as pd\n",
    "import numpy as np\n",
    "import matplotlib.pyplot as plt\n",
    "# import torch\n",
    "import random\n",
    "import math\n",
    "import copy\n",
    "import os\n",
    "import sys\n",
    "from itertools import permutations\n",
    "from itertools import product\n",
    "from typing import Callable, Dict, List, Optional, Tuple, Union\n",
    "\n",
    "import numpy as np\n",
    "import pandas as pd"
   ]
  },
  {
   "cell_type": "code",
   "execution_count": 2,
   "metadata": {},
   "outputs": [
    {
     "name": "stderr",
     "output_type": "stream",
     "text": [
      "/opt/anaconda3/envs/carla_data/lib/python3.7/site-packages/tqdm/auto.py:22: TqdmWarning: IProgress not found. Please update jupyter and ipywidgets. See https://ipywidgets.readthedocs.io/en/stable/user_install.html\n",
      "  from .autonotebook import tqdm as notebook_tqdm\n"
     ]
    }
   ],
   "source": [
    "from typing import List, Optional, Tuple\n",
    "\n",
    "import torch\n",
    "import torch.nn as nn\n",
    "from torch_geometric.data import Data\n",
    "\n",
    "\n",
    "class TemporalData(Data):\n",
    "\n",
    "    def __init__(self,\n",
    "                 x: Optional[torch.Tensor] = None,\n",
    "                 positions: Optional[torch.Tensor] = None,\n",
    "                 edge_index: Optional[torch.Tensor] = None,\n",
    "                 edge_attrs: Optional[List[torch.Tensor]] = None,\n",
    "                 y: Optional[torch.Tensor] = None,\n",
    "                 file_name: Optional[str] = None,\n",
    "                 num_nodes: Optional[int] = None,\n",
    "                 padding_mask: Optional[torch.Tensor] = None,\n",
    "                 bos_mask: Optional[torch.Tensor] = None,\n",
    "                 rotate_angles: Optional[torch.Tensor] = None,\n",
    "                 lane_vectors: Optional[torch.Tensor] = None,\n",
    "                 lane_ctrs: Optional[torch.Tensor] = None,\n",
    "                 lane_idcs: Optional[torch.Tensor] = None,\n",
    "                 theta: Optional[torch.Tensor] = None,\n",
    "                 rotate_mat: Optional[torch.Tensor] = None,\n",
    "                #  cav_idx: Optional[np.array] = None,\n",
    "                #  ncv_idx: Optional[np.array] = None,\n",
    "                #  cv_idx: Optional[np.array] = None,\n",
    "                obj_type_02: Optional[list] = None,\n",
    "                obj_type_04: Optional[list] = None,\n",
    "                obj_type_06: Optional[list] = None,\n",
    "                obj_type_08: Optional[list] = None,\n",
    "                in_av_range: Optional[list] = None,\n",
    "                 **kwargs) -> None:\n",
    "        if x is None:\n",
    "            super(TemporalData, self).__init__()\n",
    "            return\n",
    "        super(TemporalData, self).__init__(x=x, positions=positions, y=y, file_name=file_name, num_nodes=num_nodes,\n",
    "                                           padding_mask=padding_mask, bos_mask=bos_mask, rotate_angles=rotate_angles,\n",
    "                                           lane_vectors=lane_vectors, lane_ctrs=lane_ctrs, lane_idcs = lane_idcs, \n",
    "                                           theta=theta, rotate_mat=rotate_mat, obj_type_02=obj_type_02, \n",
    "                                           obj_type_04=obj_type_04, obj_type_06=obj_type_06, obj_type_08=obj_type_08, \n",
    "                                           in_av_range=in_av_range, **kwargs)\n",
    "        if edge_attrs is not None:\n",
    "            for t in range(self.x.size(1)):\n",
    "                self[f'edge_attr_{t}'] = edge_attrs[t]\n",
    "\n",
    "    def __inc__(self, key, value):\n",
    "        if key == 'lane_actor_index':\n",
    "            return torch.tensor([[self['lane_vectors'].size(0)], [self.num_nodes]])\n",
    "        else:\n",
    "            return super().__inc__(key, value)"
   ]
  },
  {
   "cell_type": "code",
   "execution_count": 9,
   "metadata": {},
   "outputs": [],
   "source": [
    "frame = 31851\n",
    "cav = 571\n",
    "raw_path = \"../../scene_mining/scene_{}_{}\".format(frame,cav)\n",
    "df = pd.read_csv(raw_path)"
   ]
  },
  {
   "cell_type": "code",
   "execution_count": 251,
   "metadata": {},
   "outputs": [
    {
     "data": {
      "text/html": [
       "<div>\n",
       "<style scoped>\n",
       "    .dataframe tbody tr th:only-of-type {\n",
       "        vertical-align: middle;\n",
       "    }\n",
       "\n",
       "    .dataframe tbody tr th {\n",
       "        vertical-align: top;\n",
       "    }\n",
       "\n",
       "    .dataframe thead th {\n",
       "        text-align: right;\n",
       "    }\n",
       "</style>\n",
       "<table border=\"1\" class=\"dataframe\">\n",
       "  <thead>\n",
       "    <tr style=\"text-align: right;\">\n",
       "      <th></th>\n",
       "      <th>frame</th>\n",
       "      <th>time</th>\n",
       "      <th>vid</th>\n",
       "      <th>type_id</th>\n",
       "      <th>position_x</th>\n",
       "      <th>position_y</th>\n",
       "      <th>position_z</th>\n",
       "      <th>rotation_x</th>\n",
       "      <th>rotation_y</th>\n",
       "      <th>rotation_z</th>\n",
       "      <th>vel_x</th>\n",
       "      <th>vel_y</th>\n",
       "      <th>angular_z</th>\n",
       "      <th>obj_type_mpr_02</th>\n",
       "      <th>obj_type_mpr_04</th>\n",
       "      <th>obj_type_mpr_06</th>\n",
       "      <th>obj_type_mpr_08</th>\n",
       "      <th>in_av_range</th>\n",
       "    </tr>\n",
       "  </thead>\n",
       "  <tbody>\n",
       "    <tr>\n",
       "      <th>0</th>\n",
       "      <td>31801</td>\n",
       "      <td>0:00:10:0810</td>\n",
       "      <td>401</td>\n",
       "      <td>vehicle.tesla.model3</td>\n",
       "      <td>236.415131</td>\n",
       "      <td>53.560398</td>\n",
       "      <td>0.001483</td>\n",
       "      <td>-0.000031</td>\n",
       "      <td>-0.001953</td>\n",
       "      <td>90.693298</td>\n",
       "      <td>3.457908e-08</td>\n",
       "      <td>2.307362e-09</td>\n",
       "      <td>-2.936744e-09</td>\n",
       "      <td>ncv</td>\n",
       "      <td>ncv</td>\n",
       "      <td>ncv</td>\n",
       "      <td>cv</td>\n",
       "      <td>False</td>\n",
       "    </tr>\n",
       "    <tr>\n",
       "      <th>1</th>\n",
       "      <td>31801</td>\n",
       "      <td>0:00:10:0810</td>\n",
       "      <td>409</td>\n",
       "      <td>vehicle.gazelle.omafiets</td>\n",
       "      <td>237.606689</td>\n",
       "      <td>106.041481</td>\n",
       "      <td>-0.013334</td>\n",
       "      <td>0.004829</td>\n",
       "      <td>0.218996</td>\n",
       "      <td>91.331276</td>\n",
       "      <td>-9.578159e-02</td>\n",
       "      <td>4.080796e+00</td>\n",
       "      <td>7.327369e-02</td>\n",
       "      <td>ncv</td>\n",
       "      <td>ncv</td>\n",
       "      <td>ncv</td>\n",
       "      <td>ncv</td>\n",
       "      <td>True</td>\n",
       "    </tr>\n",
       "    <tr>\n",
       "      <th>2</th>\n",
       "      <td>31801</td>\n",
       "      <td>0:00:10:0810</td>\n",
       "      <td>412</td>\n",
       "      <td>vehicle.bmw.isetta</td>\n",
       "      <td>246.875626</td>\n",
       "      <td>51.436581</td>\n",
       "      <td>0.001251</td>\n",
       "      <td>0.000431</td>\n",
       "      <td>0.031426</td>\n",
       "      <td>-88.655052</td>\n",
       "      <td>1.034221e-01</td>\n",
       "      <td>-4.410285e+00</td>\n",
       "      <td>1.829045e-03</td>\n",
       "      <td>ncv</td>\n",
       "      <td>ncv</td>\n",
       "      <td>ncv</td>\n",
       "      <td>cv</td>\n",
       "      <td>False</td>\n",
       "    </tr>\n",
       "    <tr>\n",
       "      <th>3</th>\n",
       "      <td>31801</td>\n",
       "      <td>0:00:10:0810</td>\n",
       "      <td>454</td>\n",
       "      <td>vehicle.citroen.c3</td>\n",
       "      <td>234.176544</td>\n",
       "      <td>116.039940</td>\n",
       "      <td>0.038404</td>\n",
       "      <td>0.003857</td>\n",
       "      <td>-0.000642</td>\n",
       "      <td>91.738113</td>\n",
       "      <td>-1.296484e-01</td>\n",
       "      <td>4.975683e+00</td>\n",
       "      <td>-6.473547e-01</td>\n",
       "      <td>ncv</td>\n",
       "      <td>ncv</td>\n",
       "      <td>ncv</td>\n",
       "      <td>ncv</td>\n",
       "      <td>True</td>\n",
       "    </tr>\n",
       "    <tr>\n",
       "      <th>4</th>\n",
       "      <td>31801</td>\n",
       "      <td>0:00:10:0810</td>\n",
       "      <td>456</td>\n",
       "      <td>vehicle.diamondback.century</td>\n",
       "      <td>234.058121</td>\n",
       "      <td>105.858330</td>\n",
       "      <td>-0.017584</td>\n",
       "      <td>-0.000092</td>\n",
       "      <td>-0.303247</td>\n",
       "      <td>91.388824</td>\n",
       "      <td>-1.008894e-01</td>\n",
       "      <td>4.164351e+00</td>\n",
       "      <td>-1.357185e-02</td>\n",
       "      <td>ncv</td>\n",
       "      <td>ncv</td>\n",
       "      <td>ncv</td>\n",
       "      <td>ncv</td>\n",
       "      <td>True</td>\n",
       "    </tr>\n",
       "  </tbody>\n",
       "</table>\n",
       "</div>"
      ],
      "text/plain": [
       "   frame          time  vid                      type_id  position_x  \\\n",
       "0  31801  0:00:10:0810  401         vehicle.tesla.model3  236.415131   \n",
       "1  31801  0:00:10:0810  409     vehicle.gazelle.omafiets  237.606689   \n",
       "2  31801  0:00:10:0810  412           vehicle.bmw.isetta  246.875626   \n",
       "3  31801  0:00:10:0810  454           vehicle.citroen.c3  234.176544   \n",
       "4  31801  0:00:10:0810  456  vehicle.diamondback.century  234.058121   \n",
       "\n",
       "   position_y  position_z  rotation_x  rotation_y  rotation_z         vel_x  \\\n",
       "0   53.560398    0.001483   -0.000031   -0.001953   90.693298  3.457908e-08   \n",
       "1  106.041481   -0.013334    0.004829    0.218996   91.331276 -9.578159e-02   \n",
       "2   51.436581    0.001251    0.000431    0.031426  -88.655052  1.034221e-01   \n",
       "3  116.039940    0.038404    0.003857   -0.000642   91.738113 -1.296484e-01   \n",
       "4  105.858330   -0.017584   -0.000092   -0.303247   91.388824 -1.008894e-01   \n",
       "\n",
       "          vel_y     angular_z obj_type_mpr_02 obj_type_mpr_04 obj_type_mpr_06  \\\n",
       "0  2.307362e-09 -2.936744e-09             ncv             ncv             ncv   \n",
       "1  4.080796e+00  7.327369e-02             ncv             ncv             ncv   \n",
       "2 -4.410285e+00  1.829045e-03             ncv             ncv             ncv   \n",
       "3  4.975683e+00 -6.473547e-01             ncv             ncv             ncv   \n",
       "4  4.164351e+00 -1.357185e-02             ncv             ncv             ncv   \n",
       "\n",
       "  obj_type_mpr_08  in_av_range  \n",
       "0              cv        False  \n",
       "1             ncv         True  \n",
       "2              cv        False  \n",
       "3             ncv         True  \n",
       "4             ncv         True  "
      ]
     },
     "execution_count": 251,
     "metadata": {},
     "output_type": "execute_result"
    }
   ],
   "source": [
    "df.head()\n"
   ]
  },
  {
   "cell_type": "code",
   "execution_count": 2,
   "metadata": {},
   "outputs": [],
   "source": [
    "cv_range = 50\n",
    "sys.path.append('/Users/xichen/Documents/paper2-traj-pred/carla-data/maps/lanelet2')\n",
    "sys.path.append('/Users/xichen/Documents/paper2-traj-pred/carla-data')\n",
    "import lane_segment, load_xml\n",
    "from utils.lane_sampling import Spline2D, visualize_centerline\n",
    "\n",
    "obs_len = 50\n",
    "obs_range = 50 #traj length\n",
    "fut_len = 50\n",
    "normalized = True\n",
    "split = \"train\"\n",
    "def get_lane_feats(origin, rotate_mat, radius=75):\n",
    "    roads = load_xml.load_lane_segments_from_xml(\"../../maps/lanelet2/Town03.osm\")\n",
    "    polygon_bboxes, lane_starts, lane_ends = load_xml.build_polygon_bboxes(roads)\n",
    "    road_ids = load_xml.get_road_ids_in_xy_bbox(polygon_bboxes, lane_starts, lane_ends, roads, origin[0], origin[1], radius)\n",
    "    road_ids = copy.deepcopy(road_ids)\n",
    "\n",
    "    lanes=dict()\n",
    "    for road_id in road_ids:\n",
    "        road = roads[road_id]\n",
    "        ctr_line = torch.from_numpy(np.stack(((roads[road_id].l_bound[:,0]+roads[road_id].r_bound[:,0])/2, \n",
    "                        (roads[road_id].l_bound[:,1]+roads[road_id].r_bound[:,1])/2),axis=-1))\n",
    "        ctr_line = torch.matmul(rotate_mat, (ctr_line - origin.reshape(-1, 2)).T.float()).T\n",
    "\n",
    "        x, y = ctr_line[:,0], ctr_line[:,1]\n",
    "        # if x.max() < x_min or x.min() > x_max or y.max() < y_min or y.min() > y_max:\n",
    "        #     continue\n",
    "        # else:\n",
    "        \"\"\"getting polygons requires original centerline\"\"\"\n",
    "        polygon, _, _ = load_xml.build_polygon_bboxes({road_id: roads[road_id]})\n",
    "        polygon_x = torch.Tensor([polygon[:,0],polygon[:,0],polygon[:,2],polygon[:,2],polygon[:,0]])\n",
    "        polygon_y = torch.Tensor([polygon[:,1],polygon[:,3],polygon[:,3],polygon[:,1],polygon[:,1]])\n",
    "        polygon_reshape = torch.cat([polygon_x,polygon_y],dim=-1) #shape(5,2)\n",
    "\n",
    "        road.centerline = ctr_line\n",
    "        road.polygon = torch.matmul(rotate_mat, (polygon_reshape - origin.reshape(-1, 2)).T).T\n",
    "        lanes[road_id] = road\n",
    "\n",
    "    lane_ids = list(lanes.keys())\n",
    "    lane_ctrs, lane_vectors = [], []\n",
    "    for lane_id in lane_ids:\n",
    "        lane = lanes[lane_id]\n",
    "        ctrln = lane.centerline\n",
    "\n",
    "        # lane_ctrs.append(torch.from_numpy(np.asarray((ctrln[:-1]+ctrln[1:])/2.0, np.float32)))#lane center point\n",
    "        # lane_vectors.append(torch.from_numpy(np.asarray(ctrln[1:]-ctrln[:-1], np.float32))) #length between waypoints\n",
    "        lane_ctrs.append((ctrln[:-1]+ctrln[1:])/2.0)#lane center point\n",
    "        lane_vectors.append(ctrln[1:]-ctrln[:-1])#length between waypoints\n",
    "\n",
    "    lane_idcs = []\n",
    "    count = 0\n",
    "    for i, ctr in enumerate(lane_ctrs):\n",
    "        lane_idcs.append(i*torch.ones(len(ctr)))\n",
    "        count += len(ctr)\n",
    "\n",
    "    lane_idcs = torch.cat(lane_idcs, 0)\n",
    "    lane_ctrs = torch.cat(lane_ctrs, dim=0)\n",
    "    lane_vectors = torch.cat(lane_vectors, dim=0)\n",
    "\n",
    "    return lane_ctrs, lane_vectors, lane_idcs\n",
    "    "
   ]
  },
  {
   "cell_type": "code",
   "execution_count": 210,
   "metadata": {},
   "outputs": [],
   "source": [
    "def get_scene_feats(raw_path, radius, split=\"train\"):\n",
    "\n",
    "    df = pd.read_csv(raw_path)\n",
    "\n",
    "    # filter out actors that are unseen during the historical time steps\n",
    "    timestamps = list(np.sort(df['frame'].unique()))\n",
    "    historical_timestamps = timestamps[: 50]\n",
    "    historical_df = df[df['frame'].isin(historical_timestamps)]\n",
    "    actor_ids = list(historical_df['vid'].unique())\n",
    "    df = df[df['vid'].isin(actor_ids)]\n",
    "    num_nodes = len(actor_ids)\n",
    "\n",
    "    objs = df.groupby(['vid', 'obj_type_mpr_02', 'obj_type_mpr_04', 'obj_type_mpr_06', 'obj_type_mpr_08', 'in_av_range']).groups\n",
    "    keys = list(objs.keys())\n",
    "    obj_type_02 = [x[1] for x in keys]\n",
    "    obj_type_04 = [x[2] for x in keys]\n",
    "    obj_type_06 = [x[3] for x in keys]\n",
    "    obj_type_08 = [x[4] for x in keys]\n",
    "    in_av_range = [x[5] for x in keys]\n",
    "\n",
    "    # cav_idx = obj_type.index(\"cav\")\n",
    "    cav_idx = np.where(np.asarray(obj_type_02)==\"cav\")[0] #np array\n",
    "    # ncv_idx = np.where(np.asarray(obj_type)==\"ncv\")[0] #np array\n",
    "    # cv_idx = np.where(np.asarray(obj_type)==\"cv\")[0] #np array\n",
    "\n",
    "    cav_df = df[df['obj_type_mpr_02'] == 'cav'].iloc\n",
    "    # cv_df = df[df['obj_type_mpr_02'] == 'cv'].iloc\n",
    "    # ncv_df = df[df['obj_type_mpr_02'] == 'ncv'].iloc\n",
    "\n",
    "    # make the scene centered at CAV\n",
    "    origin = torch.tensor([cav_df[49]['position_x'], cav_df[49]['position_y']], dtype=torch.float)\n",
    "    cav_heading_vector = origin - torch.tensor([cav_df[48]['position_x'], cav_df[48]['position_x']], dtype=torch.float)\n",
    "    theta = torch.atan2(cav_heading_vector[1], cav_heading_vector[0])\n",
    "    rotate_mat = torch.tensor([[torch.cos(theta), -torch.sin(theta)],\n",
    "                                [torch.sin(theta), torch.cos(theta)]])\n",
    "    \n",
    "    # initialization\n",
    "    x = torch.zeros(num_nodes, 100, 2, dtype=torch.float)\n",
    "    x_orin = torch.zeros(num_nodes, 100, 2, dtype=torch.float)\n",
    "    # edge_index = torch.LongTensor(list(permutations(range(num_nodes), 2))).t().contiguous()\n",
    "    padding_mask = torch.ones(num_nodes, 100, dtype=torch.bool)\n",
    "    bos_mask = torch.zeros(num_nodes, 50, dtype=torch.bool)\n",
    "    rotate_angles = torch.zeros(num_nodes, dtype=torch.float)\n",
    "\n",
    "    for actor_id, actor_df in df.groupby('vid'):\n",
    "        node_idx = actor_ids.index(actor_id)\n",
    "        node_steps = [timestamps.index(timestamp) for timestamp in actor_df['frame']]\n",
    "        padding_mask[node_idx, node_steps] = False\n",
    "        if padding_mask[node_idx, 49]:  # make no predictions for actors that are unseen at the current time step\n",
    "            padding_mask[node_idx, 50:] = True\n",
    "        xy = torch.from_numpy(np.stack([actor_df['position_x'].values, actor_df['position_y'].values], axis=-1)).float()\n",
    "        x_orin[node_idx, node_steps] = xy\n",
    "        x[node_idx, node_steps] = torch.matmul(xy - origin, rotate_mat)\n",
    "        node_historical_steps = list(filter(lambda node_step: node_step < 50, node_steps))\n",
    "        if len(node_historical_steps) > 1:  # calculate the heading of the actor (approximately)\n",
    "            heading_vector = x[node_idx, node_historical_steps[-1]] - x[node_idx, node_historical_steps[-2]]\n",
    "            rotate_angles[node_idx] = torch.atan2(heading_vector[1], heading_vector[0])\n",
    "        else:  # make no predictions for the actor if the number of valid time steps is less than 2\n",
    "            padding_mask[node_idx, 50:] = True\n",
    "\n",
    "    # bos_mask is True if time step t is valid and time step t-1 is invalid\n",
    "    bos_mask[:, 0] = ~padding_mask[:, 0]\n",
    "    bos_mask[:, 1: 50] = padding_mask[:, : 49] & ~padding_mask[:, 1: 50]\n",
    "\n",
    "    #positions are transformed absolute x, y coordinates\n",
    "    #x are made to transformed relative coordinates\n",
    "    positions = x.clone()\n",
    "    x[:, 50:] = torch.where((padding_mask[:, 49].unsqueeze(-1) | padding_mask[:, 50:]).unsqueeze(-1),\n",
    "                            torch.zeros(num_nodes, 50, 2),\n",
    "                            x[:, 50:] - x[:, 49].unsqueeze(-2))\n",
    "    x[:, 1: 50] = torch.where((padding_mask[:, : 49] | padding_mask[:, 1: 50]).unsqueeze(-1),\n",
    "                                torch.zeros(num_nodes, 49, 2),\n",
    "                                x[:, 1: 50] - x[:, : 49])\n",
    "    x[:, 0] = torch.zeros(num_nodes, 2)\n",
    "\n",
    "    y = None if split == 'test' else x[:, 50:]\n",
    "    file_name = os.path.splitext(os.path.basename(raw_path))[0] #'scene_31801_454'\n",
    "\n",
    "    lane_ctrs, lane_vectors, lane_idcs = get_lane_feats(origin, rotate_mat, radius)\n",
    "\n",
    "    return {\n",
    "        'x': x[:, : 50],  # [N, 50, 2]\n",
    "        'positions': positions,  # [N, 100, 2]\n",
    "        # 'edge_index': edge_index,  # [2, N x N - 1]\n",
    "        'y': y,  # [N, 50, 2]\n",
    "        'file_name': file_name, #str\n",
    "        'num_nodes': num_nodes,\n",
    "        'padding_mask': padding_mask,  # [N, 100]\n",
    "        'bos_mask': bos_mask,  # [N, 50]\n",
    "        'rotate_angles': rotate_angles,  # [N]\n",
    "        'lane_vectors': lane_vectors,  # [L, 2]\n",
    "        'lane_ctrs': lane_ctrs, #[L, 2]\n",
    "        'lane_idcs': lane_idcs, #[L]\n",
    "        # 'lane_actor_index': lane_actor_index,  # [2, E_{A-L}]\n",
    "        # 'lane_actor_vectors': lane_actor_vectors,  # [E_{A-L}, 2]\n",
    "        # 'cav_index': cav_idx, #np.array\n",
    "        # 'cv_index': cv_idx, #np.array\n",
    "        # 'ncv_index': ncv_idx, #np.array\n",
    "        'obj_type_02': obj_type_02, #list(str)\n",
    "        'obj_type_04': obj_type_04, #list(str)\n",
    "        'obj_type_06': obj_type_06, #list(str)\n",
    "        'obj_type_08': obj_type_08, #list(str)\n",
    "        'in_av_range': in_av_range, #list(bool)\n",
    "        'origin': origin.unsqueeze(0),\n",
    "        'theta': theta,\n",
    "        'rotate_mat': rotate_mat\n",
    "    }\n",
    "\n",
    "    \n",
    "\n",
    "    \n",
    "\n",
    "    \n",
    "\n",
    "    \n",
    "    \n",
    "    \n",
    "\n",
    "    \n",
    "    "
   ]
  },
  {
   "cell_type": "code",
   "execution_count": 212,
   "metadata": {},
   "outputs": [],
   "source": [
    "kwargs = get_scene_feats(raw_path, radius=75, split=\"train\")"
   ]
  },
  {
   "cell_type": "code",
   "execution_count": 214,
   "metadata": {},
   "outputs": [],
   "source": [
    "data = TemporalData(**kwargs)"
   ]
  },
  {
   "cell_type": "code",
   "execution_count": 215,
   "metadata": {},
   "outputs": [
    {
     "data": {
      "text/plain": [
       "TemporalData(x=[20, 50, 2], y=[20, 50, 2], positions=[20, 100, 2], file_name='scene_29301_454', num_nodes=20, padding_mask=[20, 100], bos_mask=[20, 50], rotate_angles=[20], lane_vectors=[786, 2], lane_ctrs=[786, 2], lane_idcs=[786], theta=-1.5716224908828735, rotate_mat=[2, 2], obj_type_02=[20], obj_type_04=[20], obj_type_06=[20], obj_type_08=[20], in_av_range=[20], origin=[1, 2])"
      ]
     },
     "execution_count": 215,
     "metadata": {},
     "output_type": "execute_result"
    }
   ],
   "source": [
    "data"
   ]
  },
  {
   "cell_type": "code",
   "execution_count": 252,
   "metadata": {},
   "outputs": [],
   "source": [
    "split = \"train\"\n",
    "\n",
    "# filter out actors that are unseen during the historical time steps\n",
    "timestamps = list(np.sort(df['frame'].unique()))\n",
    "historical_timestamps = timestamps[: 50]\n",
    "historical_df = df[df['frame'].isin(historical_timestamps)]\n",
    "actor_ids = list(historical_df['vid'].unique())\n",
    "df = df[df['vid'].isin(actor_ids)]\n",
    "num_nodes = len(actor_ids)\n",
    "\n"
   ]
  },
  {
   "cell_type": "code",
   "execution_count": 253,
   "metadata": {},
   "outputs": [],
   "source": [
    "objs = df.groupby(['vid', 'obj_type_mpr_02', 'obj_type_mpr_04', 'obj_type_mpr_06', 'obj_type_mpr_08', 'in_av_range']).groups\n",
    "keys = list(objs.keys())\n",
    "obj_type = [x[1] for x in keys]\n",
    "\n",
    "# cav_idx = obj_type.index(\"cav\")\n",
    "cav_idx = np.where(np.asarray(obj_type)==\"cav\")[0] #np array\n",
    "ncv_idx = np.where(np.asarray(obj_type)==\"ncv\")[0] #np array\n",
    "cv_idx = np.where(np.asarray(obj_type)==\"cv\")[0] #np array\n",
    "\n",
    "cav_df = df[df['obj_type_mpr_02'] == 'cav'].iloc\n",
    "cv_df = df[df['obj_type_mpr_02'] == 'cv'].iloc\n",
    "ncv_df = df[df['obj_type_mpr_02'] == 'ncv'].iloc"
   ]
  },
  {
   "cell_type": "code",
   "execution_count": 254,
   "metadata": {},
   "outputs": [],
   "source": [
    "obj_type_02 = [x[1] for x in keys]\n",
    "obj_type_04 = [x[2] for x in keys]\n",
    "obj_type_06 = [x[3] for x in keys]\n",
    "obj_type_08 = [x[4] for x in keys]\n",
    "in_av_range = [x[5] for x in keys]"
   ]
  },
  {
   "cell_type": "code",
   "execution_count": 255,
   "metadata": {},
   "outputs": [
    {
     "name": "stdout",
     "output_type": "stream",
     "text": [
      "['ncv', 'ncv', 'ncv', 'ncv', 'ncv', 'ncv', 'ncv', 'ncv', 'cv', 'cav', 'ncv', 'ncv', 'ncv']\n",
      "['ncv', 'ncv', 'ncv', 'ncv', 'ncv', 'ncv', 'ncv', 'ncv', 'cv', 'cav', 'ncv', 'ncv', 'ncv']\n",
      "['cv', 'ncv', 'ncv', 'ncv', 'ncv', 'ncv', 'cv', 'ncv', 'cv', 'cav', 'cv', 'ncv', 'cv']\n",
      "['cv', 'cv', 'ncv', 'cv', 'ncv', 'ncv', 'cv', 'ncv', 'cv', 'cav', 'cv', 'ncv', 'cv']\n",
      "[False, False, True, False, True, True, False, False, False, True, False, False, True]\n"
     ]
    }
   ],
   "source": [
    "print(obj_type_02)\n",
    "print(obj_type_04)\n",
    "print(obj_type_06)\n",
    "print(obj_type_08)\n",
    "print(in_av_range)"
   ]
  },
  {
   "cell_type": "code",
   "execution_count": 256,
   "metadata": {},
   "outputs": [],
   "source": [
    "# make the scene centered at CAV\n",
    "origin = torch.tensor([cav_df[49]['position_x'], cav_df[49]['position_y']], dtype=torch.float)\n",
    "cav_heading_vector = origin - torch.tensor([cav_df[48]['position_x'], cav_df[48]['position_y']], dtype=torch.float)\n",
    "theta = torch.atan2(cav_heading_vector[1], cav_heading_vector[0])\n",
    "rotate_mat = torch.tensor([[torch.cos(theta), -torch.sin(theta)],\n",
    "                            [torch.sin(theta), torch.cos(theta)]])"
   ]
  },
  {
   "cell_type": "code",
   "execution_count": 300,
   "metadata": {},
   "outputs": [],
   "source": [
    "# initialization\n",
    "x = torch.zeros(num_nodes, 100, 2, dtype=torch.float)\n",
    "x_orin = torch.zeros(num_nodes, 100, 2, dtype=torch.float)\n",
    "# edge_index = torch.LongTensor(list(permutations(range(num_nodes), 2))).t().contiguous()\n",
    "padding_mask = torch.ones(num_nodes, 100, dtype=torch.bool)\n",
    "bos_mask = torch.zeros(num_nodes, 50, dtype=torch.bool)\n",
    "rotate_angles = torch.zeros(num_nodes, dtype=torch.float)"
   ]
  },
  {
   "cell_type": "code",
   "execution_count": 53,
   "metadata": {},
   "outputs": [
    {
     "data": {
      "text/plain": [
       "Index(['frame', 'time', 'vid', 'type_id', 'position_x', 'position_y',\n",
       "       'position_z', 'rotation_x', 'rotation_y', 'rotation_z', 'vel_x',\n",
       "       'vel_y', 'angular_z', 'obj_type_mpr_02', 'obj_type_mpr_04',\n",
       "       'obj_type_mpr_06', 'obj_type_mpr_08', 'in_av_range'],\n",
       "      dtype='object')"
      ]
     },
     "execution_count": 53,
     "metadata": {},
     "output_type": "execute_result"
    }
   ],
   "source": [
    "df.columns"
   ]
  },
  {
   "cell_type": "code",
   "execution_count": 301,
   "metadata": {},
   "outputs": [],
   "source": [
    "for actor_id, actor_df in df.groupby('vid'):\n",
    "    node_idx = actor_ids.index(actor_id)\n",
    "    node_steps = [timestamps.index(timestamp) for timestamp in actor_df['frame']]\n",
    "    padding_mask[node_idx, node_steps] = False\n",
    "    if padding_mask[node_idx, 49]:  # make no predictions for actors that are unseen at the current time step\n",
    "        padding_mask[node_idx, 50:] = True\n",
    "    xy = torch.from_numpy(np.stack([actor_df['position_x'].values, actor_df['position_y'].values], axis=-1)).float()\n",
    "    x_orin[node_idx, node_steps] = xy\n",
    "    # x[node_idx, node_steps] = torch.matmul(xy - origin.reshape(-1, 2), rotate_mat)\n",
    "    # torch.matmul(rotate_mat, (ctr_line - origin.reshape(-1, 2)).T.float()).T\n",
    "    x[node_idx, node_steps] = torch.matmul(rotate_mat, (xy - origin.reshape(-1, 2)).T).T\n",
    "    # x[node_idx, node_steps] = torch.matmul(rotate_mat, (xy - origin.reshape(-1, 2)).T.float()).T\n",
    "    node_historical_steps = list(filter(lambda node_step: node_step < 50, node_steps))\n",
    "    if len(node_historical_steps) > 1:  # calculate the heading of the actor (approximately)\n",
    "        heading_vector = x[node_idx, node_historical_steps[-1]] - x[node_idx, node_historical_steps[-2]]\n",
    "        rotate_angles[node_idx] = torch.atan2(heading_vector[1], heading_vector[0])\n",
    "    else:  # make no predictions for the actor if the number of valid time steps is less than 2\n",
    "        padding_mask[node_idx, 50:] = True"
   ]
  },
  {
   "cell_type": "code",
   "execution_count": 278,
   "metadata": {},
   "outputs": [
    {
     "data": {
      "text/plain": [
       "torch.Size([2])"
      ]
     },
     "execution_count": 278,
     "metadata": {},
     "output_type": "execute_result"
    }
   ],
   "source": [
    "origin.shape"
   ]
  },
  {
   "cell_type": "code",
   "execution_count": 302,
   "metadata": {},
   "outputs": [],
   "source": [
    "# bos_mask is True if time step t is valid and time step t-1 is invalid\n",
    "bos_mask[:, 0] = ~padding_mask[:, 0]\n",
    "bos_mask[:, 1: 50] = padding_mask[:, : 49] & ~padding_mask[:, 1: 50]\n",
    "\n",
    "#positions are transformed absolute x, y coordinates\n",
    "#x are made to transformed relative coordinates\n",
    "positions = x.clone()\n",
    "x[:, 50:] = torch.where((padding_mask[:, 49].unsqueeze(-1) | padding_mask[:, 50:]).unsqueeze(-1),\n",
    "                        torch.zeros(num_nodes, 50, 2),\n",
    "                        x[:, 50:] - x[:, 49].unsqueeze(-2))\n",
    "x[:, 1: 50] = torch.where((padding_mask[:, : 49] | padding_mask[:, 1: 50]).unsqueeze(-1),\n",
    "                            torch.zeros(num_nodes, 49, 2),\n",
    "                            x[:, 1: 50] - x[:, : 49])\n",
    "x[:, 0] = torch.zeros(num_nodes, 2)"
   ]
  },
  {
   "cell_type": "code",
   "execution_count": 76,
   "metadata": {},
   "outputs": [],
   "source": [
    "y = None if split == 'test' else x[:, 50:]\n",
    "seq_id = os.path.splitext(os.path.basename(raw_path))[0] #'scene_31801_454'\n"
   ]
  },
  {
   "cell_type": "code",
   "execution_count": 4,
   "metadata": {},
   "outputs": [],
   "source": [
    "cv_range = 50\n",
    "sys.path.append('/Users/xichen/Documents/paper2-traj-pred/carla-data/maps/lanelet2')\n",
    "sys.path.append('/Users/xichen/Documents/paper2-traj-pred/carla-data')\n",
    "import lane_segment, load_xml\n",
    "from utils.lane_sampling import Spline2D, visualize_centerline\n",
    "roads = load_xml.load_lane_segments_from_xml(\"../../maps/lanelet2/Town03.osm\")\n",
    "polygon_bboxes, lane_starts, lane_ends = load_xml.build_polygon_bboxes(roads)\n",
    "obs_len = 50\n",
    "obs_range = 50 #traj length\n",
    "fut_len = 50\n",
    "normalized = True\n",
    "split = \"train\""
   ]
  },
  {
   "cell_type": "code",
   "execution_count": 264,
   "metadata": {},
   "outputs": [],
   "source": [
    "road_ids = load_xml.get_road_ids_in_xy_bbox(polygon_bboxes, lane_starts, lane_ends, roads, origin[0], origin[1], 75)\n",
    "road_ids = copy.deepcopy(road_ids)"
   ]
  },
  {
   "cell_type": "code",
   "execution_count": 267,
   "metadata": {},
   "outputs": [
    {
     "data": {
      "text/plain": [
       "torch.Size([13, 100, 2])"
      ]
     },
     "execution_count": 267,
     "metadata": {},
     "output_type": "execute_result"
    }
   ],
   "source": [
    "x_orin.shape"
   ]
  },
  {
   "cell_type": "code",
   "execution_count": 282,
   "metadata": {},
   "outputs": [
    {
     "data": {
      "image/png": "[encoded data removed]",
      "text/plain": [
       "<Figure size 640x480 with 1 Axes>"
      ]
     },
     "metadata": {},
     "output_type": "display_data"
    }
   ],
   "source": [
    "#plot scene before transformation\n",
    "for road_id in road_ids:\n",
    "    road = roads[road_id]\n",
    "    ctr_line = torch.from_numpy(np.stack(((roads[road_id].l_bound[:,0]+roads[road_id].r_bound[:,0])/2, \n",
    "                    (roads[road_id].l_bound[:,1]+roads[road_id].r_bound[:,1])/2),axis=-1))\n",
    "    visualize_centerline(ctr_line)\n",
    "for i in range(x_orin.shape[0]):\n",
    "    plt.plot(x_orin[i][:50,0], x_orin[i][:50,1],'r')\n",
    "    plt.plot(x_orin[i][50:,0], x_orin[i][50:,1],'b')\n"
   ]
  },
  {
   "cell_type": "code",
   "execution_count": 304,
   "metadata": {},
   "outputs": [
    {
     "data": {
      "image/png": "[encoded data removed]",
      "text/plain": [
       "<Figure size 640x480 with 1 Axes>"
      ]
     },
     "metadata": {},
     "output_type": "display_data"
    }
   ],
   "source": [
    "# plot scene after transformation\n",
    "for i in np.unique(lane_idcs):\n",
    "    line_ctr = lane_ctrs[lane_idcs == i]\n",
    "    line_vector = lane_vectors[lane_idcs == i]\n",
    "    line_str = (2.0 * line_ctr - line_vector) / 2.0\n",
    "    line_end = (2.0 * line_ctr + line_vector) / 2.0\n",
    "    line = np.vstack([line_str, line_end[-1,:].reshape(-1, 2)])\n",
    "    visualize_centerline(line)\n",
    "\n",
    "for i in range(x.shape[0]):\n",
    "    plt.plot(positions[i][:50,0], positions[i][:50,1], '--')\n",
    "    plt.plot(positions[i][50:,0], positions[i][50:,1])\n",
    "\n",
    "# #plot scene before transformation\n",
    "# for road_id in road_ids:\n",
    "#     road = roads[road_id]\n",
    "#     ctr_line = torch.from_numpy(np.stack(((roads[road_id].l_bound[:,0]+roads[road_id].r_bound[:,0])/2, \n",
    "#                     (roads[road_id].l_bound[:,1]+roads[road_id].r_bound[:,1])/2),axis=-1))\n",
    "#     ctr_line = torch.matmul(rotate_mat, (ctr_line - origin.reshape(-1, 2)).T.float()).T\n",
    "#     visualize_centerline(ctr_line)\n",
    "# for i in range(x_orin.shape[0]):\n",
    "#     x_orin1 = torch.matmul(rotate_mat, (x_orin[i] - origin.reshape(-1, 2)).T).T\n",
    "#     plt.plot(x_orin1[:50,0], x_orin1[:50,1],'r')\n",
    "#     plt.plot(x_orin1[50:,0], x_orin1[50:,1],'b')"
   ]
  },
  {
   "cell_type": "code",
   "execution_count": 293,
   "metadata": {},
   "outputs": [],
   "source": [
    "lanes=dict()\n",
    "for road_id in road_ids:\n",
    "    road = roads[road_id]\n",
    "    ctr_line = torch.from_numpy(np.stack(((roads[road_id].l_bound[:,0]+roads[road_id].r_bound[:,0])/2, \n",
    "                    (roads[road_id].l_bound[:,1]+roads[road_id].r_bound[:,1])/2),axis=-1))\n",
    "    ctr_line = torch.matmul(rotate_mat, (ctr_line - origin.reshape(-1, 2)).T.float()).T\n",
    "\n",
    "    x, y = ctr_line[:,0], ctr_line[:,1]\n",
    "\n",
    "    \"\"\"getting polygons requires original centerline\"\"\"\n",
    "    polygon, _, _ = load_xml.build_polygon_bboxes({road_id: roads[road_id]})\n",
    "    polygon_x = torch.Tensor([polygon[:,0],polygon[:,0],polygon[:,2],polygon[:,2],polygon[:,0]])\n",
    "    polygon_y = torch.Tensor([polygon[:,1],polygon[:,3],polygon[:,3],polygon[:,1],polygon[:,1]])\n",
    "    polygon_reshape = torch.cat([polygon_x,polygon_y],dim=-1) #shape(5,2)\n",
    "\n",
    "    road.centerline = ctr_line\n",
    "    road.polygon = torch.matmul(rotate_mat, (polygon_reshape - origin.reshape(-1, 2)).T).T\n",
    "    lanes[road_id] = road\n",
    "\n",
    "lane_ids = list(lanes.keys())\n",
    "lane_ctrs, lane_vectors = [], []\n",
    "for lane_id in lane_ids:\n",
    "    lane = lanes[lane_id]\n",
    "    ctrln = lane.centerline\n",
    "    num_segs = len(ctrln) - 1\n",
    "\n",
    "    # lane_ctrs.append(torch.from_numpy(np.asarray((ctrln[:-1]+ctrln[1:])/2.0, np.float32)))#lane center point\n",
    "    # lane_vectors.append(torch.from_numpy(np.asarray(ctrln[1:]-ctrln[:-1], np.float32))) #length between waypoints\n",
    "    lane_ctrs.append((ctrln[:-1]+ctrln[1:])/2.0)#lane center point\n",
    "    lane_vectors.append(ctrln[1:]-ctrln[:-1])#length between waypoints\n",
    "\n",
    "\n",
    "lane_idcs = []\n",
    "count = 0\n",
    "for i, ctr in enumerate(lane_ctrs):\n",
    "    lane_idcs.append(i*torch.ones(len(ctr)))\n",
    "    count += len(ctr)\n",
    "\n",
    "lane_idcs = torch.cat(lane_idcs, dim=0)\n",
    "lane_ctrs = torch.cat(lane_ctrs, dim=0)\n",
    "lane_vectors = torch.cat(lane_vectors, dim=0)\n",
    "\n"
   ]
  },
  {
   "cell_type": "code",
   "execution_count": 265,
   "metadata": {},
   "outputs": [],
   "source": [
    "def visualize_centerline(centerline) -> None:\n",
    "    \"\"\"Visualize the computed centerline.\n",
    "    Args:\n",
    "        centerline: Sequence of coordinates forming the centerline\n",
    "    \"\"\"\n",
    "    line_coords = list(zip(*centerline))\n",
    "    lineX = line_coords[0]\n",
    "    lineY = line_coords[1]\n",
    "    plt.plot(lineX, lineY, \"--\", color=\"grey\", alpha=1, linewidth=1, zorder=0)\n",
    "    plt.text(lineX[0], lineY[0], \"s\")\n",
    "    plt.text(lineX[-1], lineY[-1], \"e\")\n",
    "    plt.axis(\"equal\")"
   ]
  },
  {
   "cell_type": "code",
   "execution_count": 298,
   "metadata": {},
   "outputs": [
    {
     "data": {
      "image/png": "[encoded data removed]",
      "text/plain": [
       "<Figure size 640x480 with 1 Axes>"
      ]
     },
     "metadata": {},
     "output_type": "display_data"
    }
   ],
   "source": [
    "for i in np.unique(lane_idcs):\n",
    "    line_ctr = lane_ctrs[lane_idcs == i]\n",
    "    line_vector = lane_vectors[lane_idcs == i]\n",
    "    line_str = (2.0 * line_ctr - line_vector) / 2.0\n",
    "    line_end = (2.0 * line_ctr + line_vector) / 2.0\n",
    "    line = np.vstack([line_str, line_end[-1,:].reshape(-1, 2)])\n",
    "    visualize_centerline(line)\n",
    "\n",
    "for i in range(positions.shape[0]):\n",
    "    plt.plot(positions[i][:50,0], positions[i][:50,1], '--')\n",
    "    plt.plot(positions[i][50:,0], positions[i][50:,1])"
   ]
  },
  {
   "cell_type": "code",
   "execution_count": 216,
   "metadata": {},
   "outputs": [],
   "source": [
    "def visualize_data(self, data):\n",
    "    \"\"\"\n",
    "    visualize the extracted data, and exam the data\n",
    "    \"\"\"\n",
    "    fig = plt.figure(0, figsize=(8, 7))\n",
    "    fig.clear()\n",
    "\n",
    "    # visualize the centerlines\n",
    "    lines_ctrs = data.lane_ctrs\n",
    "    lines_vectors = data.lane_vectors\n",
    "    lane_idcs = data.lane_idcs\n",
    "    for i in np.unique(lane_idcs):\n",
    "        line_ctr = lines_ctrs[lane_idcs == i]\n",
    "        line_vector = lines_vectors[lane_idcs == i]\n",
    "        line_str = (2.0 * line_ctr - line_vector) / 2.0\n",
    "        line_end = (2.0 * line_ctr + line_vector) / 2.0\n",
    "        line = np.vstack([line_str, line_end[-1,:].reshape(-1, 2)])\n",
    "        self.visualize_centerline(line)\n",
    "\n",
    "    # visualize the trajectory\n",
    "    # hist = data.x #[N,50,2]\n",
    "    # fut = data.y #[N,50,2]\n",
    "    hist = data.positions[:,:50,:]\n",
    "    fut = data.positions[:,50:,:]\n",
    "    obj_type = data.obj_type_02\n",
    "\n",
    "    for i in range(hist.shape[0]):\n",
    "    # for i, [traj, has_obs, pred, has_pred] in enumerate(zip(trajs, has_obss, preds, has_preds)):\n",
    "        self.plot_traj(hist[i], fut[i], obj_type[i], i)\n",
    "\n",
    "    plt.xlabel(\"Map X\")\n",
    "    plt.ylabel(\"Map Y\")\n",
    "    # plt.axis(\"off\")\n",
    "    # plt.show()\n",
    "    plt.savefig('scene_process.png', dpi=fig.dpi)\n",
    "    plt.show(block=False)\n",
    "    plt.pause(5)\n",
    "\n",
    "def visualize_centerline(self, centerline) -> None:\n",
    "    \"\"\"Visualize the computed centerline.\n",
    "    Args:\n",
    "        centerline: Sequence of coordinates forming the centerline\n",
    "    \"\"\"\n",
    "    line_coords = list(zip(*centerline))\n",
    "    lineX = line_coords[0]\n",
    "    lineY = line_coords[1]\n",
    "    plt.plot(lineX, lineY, \"--\", color=\"grey\", alpha=1, linewidth=1, zorder=0)\n",
    "    plt.text(lineX[0], lineY[0], \"s\")\n",
    "    plt.text(lineX[-1], lineY[-1], \"e\")\n",
    "    plt.axis(\"equal\")\n",
    "\n",
    "def plot_traj(self, obs, pred, obj_type, traj_id):\n",
    "    \n",
    "    traj_na = \"t{}\".format(traj_id) if traj_id else \"traj\"\n",
    "    obj_type = obj_type.upper()\n",
    "\n",
    "    plt.plot(obs[:, 0], obs[:, 1], \"--\", color=self.COLOR_DICT[obj_type], alpha=1, linewidth=1, zorder=15)\n",
    "    plt.plot(pred[:, 0], pred[:, 1], color=self.COLOR_DICT[obj_type], alpha=1, linewidth=1, zorder=20)\n",
    "\n",
    "    # plt.text(obs[0, 0], obs[0, 1], \"{}_s\".format(traj_na))\n",
    "\n",
    "    # if len(pred) == 0:\n",
    "    #     plt.text(obs[-1, 0], obs[-1, 1], \"{}_e\".format(traj_na))\n",
    "    # else:\n",
    "    #     plt.text(pred[-1, 0], pred[-1, 1], \"{}_e\".format(traj_na))"
   ]
  },
  {
   "cell_type": "code",
   "execution_count": 3,
   "metadata": {},
   "outputs": [],
   "source": [
    "import os\n",
    "import sys\n",
    "sys.path.append('/Users/xichen/Documents/paper2-traj-pred/carla-data')\n",
    "import VectorNet.utils.carla_process_cav as preprocess"
   ]
  },
  {
   "cell_type": "code",
   "execution_count": 4,
   "metadata": {},
   "outputs": [],
   "source": [
    "test = preprocess.scene_process()"
   ]
  },
  {
   "cell_type": "code",
   "execution_count": 10,
   "metadata": {},
   "outputs": [],
   "source": [
    "data =  test.process(df,237)"
   ]
  },
  {
   "cell_type": "code",
   "execution_count": 11,
   "metadata": {},
   "outputs": [
    {
     "data": {
      "text/plain": [
       "CarlaData(x=[13, 50, 2], edge_index=[2, 156], y=[13, 50, 2], positions=[13, 100, 2], seq_id=237, num_nodes=13, padding_mask=[13, 100], bos_mask=[13, 50], rotate_angles=[13], lane_vectors=[364, 2], lane_ctrs=[364, 2], lane_idcs=[364], theta=-1.5884658098220825, rotate_mat=[2, 2], obj_type_02=[13], obj_type_04=[13], obj_type_06=[13], obj_type_08=[13], in_av_range=[13], origin=[1, 2])"
      ]
     },
     "execution_count": 11,
     "metadata": {},
     "output_type": "execute_result"
    }
   ],
   "source": [
    "data"
   ]
  },
  {
   "cell_type": "code",
   "execution_count": 12,
   "metadata": {},
   "outputs": [
    {
     "data": {
      "text/plain": [
       "torch.Size([13, 50, 2])"
      ]
     },
     "execution_count": 12,
     "metadata": {},
     "output_type": "execute_result"
    }
   ],
   "source": [
    "data.x.shape"
   ]
  },
  {
   "cell_type": "code",
   "execution_count": 13,
   "metadata": {},
   "outputs": [
    {
     "data": {
      "text/plain": [
       "torch.Size([13])"
      ]
     },
     "execution_count": 13,
     "metadata": {},
     "output_type": "execute_result"
    }
   ],
   "source": [
    "data.obj_type_04.shape"
   ]
  },
  {
   "cell_type": "code",
   "execution_count": 5,
   "metadata": {},
   "outputs": [
    {
     "name": "stdout",
     "output_type": "stream",
     "text": [
      "File count: 57\n"
     ]
    }
   ],
   "source": [
    "# folder path\n",
    "dir_path = \"../../scene_mining_intermediate/small_data/\"\n",
    "count = 0\n",
    "# Iterate directory\n",
    "for path in os.listdir(dir_path):\n",
    "    # check if current path is a file\n",
    "    if os.path.isfile(os.path.join(dir_path, path)):\n",
    "        count += 1\n",
    "print('File count:', count)"
   ]
  },
  {
   "cell_type": "code",
   "execution_count": 6,
   "metadata": {},
   "outputs": [],
   "source": [
    "#split into Train, Val, Test\n",
    "train_idx = int(count*0.8)\n",
    "val_idx = int(count*0.9)"
   ]
  },
  {
   "cell_type": "code",
   "execution_count": 19,
   "metadata": {},
   "outputs": [
    {
     "data": {
      "text/plain": [
       "51"
      ]
     },
     "execution_count": 19,
     "metadata": {},
     "output_type": "execute_result"
    }
   ],
   "source": [
    "val_idx"
   ]
  },
  {
   "cell_type": "code",
   "execution_count": 7,
   "metadata": {},
   "outputs": [
    {
     "name": "stderr",
     "output_type": "stream",
     "text": [
      "/Users/xichen/Documents/paper2-traj-pred/carla-data/VectorNet/utils/carla_process_cav.py:270: UserWarning: Creating a tensor from a list of numpy.ndarrays is extremely slow. Please consider converting the list to a single numpy.ndarray with numpy.array() before converting to a tensor. (Triggered internally at  /Users/runner/work/pytorch/pytorch/pytorch/torch/csrc/utils/tensor_new.cpp:204.)\n",
      "  polygon_x = torch.Tensor([polygon[:,0],polygon[:,0],polygon[:,2],polygon[:,2],polygon[:,0]])\n"
     ]
    }
   ],
   "source": [
    "for i in range(train_idx):\n",
    "    test.__getitem__(i,\"train\")\n",
    "for i in range(train_idx, val_idx):\n",
    "    test.__getitem__(i, \"val\")\n",
    "for i in range(val_idx, count):\n",
    "    test.__getitem__(i, \"test\")"
   ]
  },
  {
   "cell_type": "code",
   "execution_count": 24,
   "metadata": {},
   "outputs": [],
   "source": [
    "data_root = \"../../scene_mining_cav/\"\n",
    "dataset_input_path = os.path.join(data_root)\n",
    "train_dataset = preprocess.scene_processed_dataset(dataset_input_path, 'train', map_radius=75)\n",
    "val_dataset = preprocess.scene_processed_dataset(dataset_input_path, 'val', map_radius=75)"
   ]
  },
  {
   "cell_type": "code",
   "execution_count": 25,
   "metadata": {},
   "outputs": [
    {
     "data": {
      "text/plain": [
       "scene_processed_dataset(45)"
      ]
     },
     "execution_count": 25,
     "metadata": {},
     "output_type": "execute_result"
    }
   ],
   "source": [
    "train_dataset"
   ]
  },
  {
   "cell_type": "code",
   "execution_count": 26,
   "metadata": {},
   "outputs": [],
   "source": [
    "from torch_geometric.loader import DataLoader\n",
    "train_loader = DataLoader(train_dataset)\n"
   ]
  },
  {
   "cell_type": "code",
   "execution_count": null,
   "metadata": {},
   "outputs": [],
   "source": [
    "train_loader.__iter__().next()"
   ]
  },
  {
   "cell_type": "code",
   "execution_count": 34,
   "metadata": {},
   "outputs": [
    {
     "data": {
      "text/plain": [
       "CarlaData(x=[24, 50, 2], y=[24, 50, 2], positions=[24, 100, 2], seq_id=21, num_nodes=24, padding_mask=[24, 100], bos_mask=[24, 50], rotate_angles=[24], lane_vectors=[812, 2], lane_ctrs=[812, 2], lane_idcs=[812], theta=-1.5720062255859375, rotate_mat=[2, 2], obj_type_02=[24], obj_type_04=[24], obj_type_06=[24], obj_type_08=[24], in_av_range=[24], origin=[1, 2])"
      ]
     },
     "execution_count": 34,
     "metadata": {},
     "output_type": "execute_result"
    }
   ],
   "source": [
    "train_dataset[0]"
   ]
  },
  {
   "cell_type": "code",
   "execution_count": null,
   "metadata": {},
   "outputs": [],
   "source": []
  }
 ],
 "metadata": {
  "kernelspec": {
   "display_name": "carla_data",
   "language": "python",
   "name": "python3"
  },
  "language_info": {
   "codemirror_mode": {
    "name": "ipython",
    "version": 3
   },
   "file_extension": ".py",
   "mimetype": "text/x-python",
   "name": "python",
   "nbconvert_exporter": "python",
   "pygments_lexer": "ipython3",
   "version": "3.7.13"
  },
  "orig_nbformat": 4
 },
 "nbformat": 4,
 "nbformat_minor": 2
}
